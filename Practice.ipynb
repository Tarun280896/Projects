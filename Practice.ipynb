{
 "cells": [
  {
   "cell_type": "code",
   "execution_count": 1,
   "metadata": {},
   "outputs": [],
   "source": [
    "import pandas as pd\n",
    "import numpy as np\n",
    "import nltk\n",
    "import re\n",
    "from nltk.corpus import stopwords\n",
    "from nltk.stem.porter import PorterStemmer\n",
    "#nltk.download(\"stopwords\")"
   ]
  },
  {
   "cell_type": "code",
   "execution_count": 43,
   "metadata": {},
   "outputs": [],
   "source": [
    "pc = PorterStemmer()"
   ]
  },
  {
   "cell_type": "code",
   "execution_count": 33,
   "metadata": {},
   "outputs": [],
   "source": [
    "data = pd.read_excel(\"D:/Term-1/EDA/Amazon.xlsx\",quoting=3)"
   ]
  },
  {
   "cell_type": "code",
   "execution_count": 34,
   "metadata": {
    "collapsed": true
   },
   "outputs": [
    {
     "data": {
      "text/plain": [
       "0    I initially had trouble deciding between the p...\n",
       "1    Allow me to preface this with a little history...\n",
       "2    I am enjoying it so far. Great for reading. Ha...\n",
       "3    I bought one of the first Paperwhites and have...\n",
       "4    I have to say upfront - I don't like coroporat...\n",
       "Name: reviews.text, dtype: object"
      ]
     },
     "execution_count": 34,
     "metadata": {},
     "output_type": "execute_result"
    }
   ],
   "source": [
    "data['reviews.text'].head()"
   ]
  },
  {
   "cell_type": "code",
   "execution_count": 46,
   "metadata": {
    "collapsed": true
   },
   "outputs": [
    {
     "data": {
      "text/plain": [
       "['i',\n",
       " 'initially',\n",
       " 'had',\n",
       " 'trouble',\n",
       " 'deciding',\n",
       " 'between',\n",
       " 'the',\n",
       " 'paperwhite',\n",
       " 'and',\n",
       " 'the',\n",
       " 'voyage',\n",
       " 'because',\n",
       " 'reviews',\n",
       " 'more',\n",
       " 'or',\n",
       " 'less',\n",
       " 'said',\n",
       " 'the',\n",
       " 'same',\n",
       " 'thing',\n",
       " '',\n",
       " 'the',\n",
       " 'paperwhite',\n",
       " 'is',\n",
       " 'great',\n",
       " '',\n",
       " 'but',\n",
       " 'if',\n",
       " 'you',\n",
       " 'have',\n",
       " 'spending',\n",
       " 'money',\n",
       " '',\n",
       " 'go',\n",
       " 'for',\n",
       " 'the',\n",
       " 'voyage',\n",
       " 'fortunately',\n",
       " '',\n",
       " 'i',\n",
       " 'had',\n",
       " 'friends',\n",
       " 'who',\n",
       " 'owned',\n",
       " 'each',\n",
       " '',\n",
       " 'so',\n",
       " 'i',\n",
       " 'ended',\n",
       " 'up',\n",
       " 'buying',\n",
       " 'the',\n",
       " 'paperwhite',\n",
       " 'on',\n",
       " 'this',\n",
       " 'basis',\n",
       " '',\n",
       " 'both',\n",
       " 'models',\n",
       " 'now',\n",
       " 'have',\n",
       " '',\n",
       " '',\n",
       " '',\n",
       " '',\n",
       " 'ppi',\n",
       " '',\n",
       " 'so',\n",
       " 'the',\n",
       " '',\n",
       " '',\n",
       " '',\n",
       " 'dollar',\n",
       " 'jump',\n",
       " 'turns',\n",
       " 'out',\n",
       " 'pricey',\n",
       " 'the',\n",
       " 'voyage',\n",
       " 's',\n",
       " 'page',\n",
       " 'press',\n",
       " 'isn',\n",
       " 't',\n",
       " 'always',\n",
       " 'sensitive',\n",
       " '',\n",
       " 'and',\n",
       " 'if',\n",
       " 'you',\n",
       " 'are',\n",
       " 'fine',\n",
       " 'with',\n",
       " 'a',\n",
       " 'specific',\n",
       " 'setting',\n",
       " '',\n",
       " 'you',\n",
       " 'don',\n",
       " 't',\n",
       " 'need',\n",
       " 'auto',\n",
       " 'light',\n",
       " 'adjustment',\n",
       " '',\n",
       " 'it',\n",
       " 's',\n",
       " 'been',\n",
       " 'a',\n",
       " 'week',\n",
       " 'and',\n",
       " 'i',\n",
       " 'am',\n",
       " 'loving',\n",
       " 'my',\n",
       " 'paperwhite',\n",
       " '',\n",
       " 'no',\n",
       " 'regrets',\n",
       " '',\n",
       " 'the',\n",
       " 'touch',\n",
       " 'screen',\n",
       " 'is',\n",
       " 'receptive',\n",
       " 'and',\n",
       " 'easy',\n",
       " 'to',\n",
       " 'use',\n",
       " '',\n",
       " 'and',\n",
       " 'i',\n",
       " 'keep',\n",
       " 'the',\n",
       " 'light',\n",
       " 'at',\n",
       " 'a',\n",
       " 'specific',\n",
       " 'setting',\n",
       " 'regardless',\n",
       " 'of',\n",
       " 'the',\n",
       " 'time',\n",
       " 'of',\n",
       " 'day',\n",
       " '',\n",
       " '',\n",
       " 'in',\n",
       " 'any',\n",
       " 'case',\n",
       " '',\n",
       " 'it',\n",
       " 's',\n",
       " 'not',\n",
       " 'hard',\n",
       " 'to',\n",
       " 'change',\n",
       " 'the',\n",
       " 'setting',\n",
       " 'either',\n",
       " '',\n",
       " 'as',\n",
       " 'you',\n",
       " 'll',\n",
       " 'only',\n",
       " 'be',\n",
       " 'changing',\n",
       " 'the',\n",
       " 'light',\n",
       " 'level',\n",
       " 'at',\n",
       " 'a',\n",
       " 'certain',\n",
       " 'time',\n",
       " 'of',\n",
       " 'day',\n",
       " '',\n",
       " 'not',\n",
       " 'every',\n",
       " 'now',\n",
       " 'and',\n",
       " 'then',\n",
       " 'while',\n",
       " 'reading',\n",
       " '',\n",
       " 'also',\n",
       " 'glad',\n",
       " 'that',\n",
       " 'i',\n",
       " 'went',\n",
       " 'for',\n",
       " 'the',\n",
       " 'international',\n",
       " 'shipping',\n",
       " 'option',\n",
       " 'with',\n",
       " 'amazon',\n",
       " '',\n",
       " 'extra',\n",
       " 'expense',\n",
       " '',\n",
       " 'but',\n",
       " 'delivery',\n",
       " 'was',\n",
       " 'on',\n",
       " 'time',\n",
       " '',\n",
       " 'with',\n",
       " 'tracking',\n",
       " '',\n",
       " 'and',\n",
       " 'i',\n",
       " 'didnt',\n",
       " 'need',\n",
       " 'to',\n",
       " 'worry',\n",
       " 'about',\n",
       " 'customs',\n",
       " '',\n",
       " 'which',\n",
       " 'i',\n",
       " 'may',\n",
       " 'have',\n",
       " 'if',\n",
       " 'i',\n",
       " 'used',\n",
       " 'a',\n",
       " 'third',\n",
       " 'party',\n",
       " 'shipping',\n",
       " 'service',\n",
       " '']"
      ]
     },
     "execution_count": 46,
     "metadata": {},
     "output_type": "execute_result"
    }
   ],
   "source": [
    "review = re.sub('[^a-zA-Z]',\" \", data['reviews.text'][0])\n",
    "review = review.lower()\n",
    "review = review.split(\" \")\n",
    "review"
   ]
  },
  {
   "cell_type": "code",
   "execution_count": 36,
   "metadata": {
    "collapsed": true
   },
   "outputs": [
    {
     "data": {
      "text/plain": [
       "\"I initially had trouble deciding between the paperwhite and the voyage because reviews more or less said the same thing: the paperwhite is great, but if you have spending money, go for the voyage.Fortunately, I had friends who owned each, so I ended up buying the paperwhite on this basis: both models now have 300 ppi, so the 80 dollar jump turns out pricey the voyage's page press isn't always sensitive, and if you are fine with a specific setting, you don't need auto light adjustment).It's been a week and I am loving my paperwhite, no regrets! The touch screen is receptive and easy to use, and I keep the light at a specific setting regardless of the time of day. (In any case, it's not hard to change the setting either, as you'll only be changing the light level at a certain time of day, not every now and then while reading).Also glad that I went for the international shipping option with Amazon. Extra expense, but delivery was on time, with tracking, and I didnt need to worry about customs, which I may have if I used a third party shipping service.\""
      ]
     },
     "execution_count": 36,
     "metadata": {},
     "output_type": "execute_result"
    }
   ],
   "source": [
    "data['reviews.text'][0].strip()"
   ]
  },
  {
   "cell_type": "code",
   "execution_count": 48,
   "metadata": {},
   "outputs": [
    {
     "data": {
      "text/plain": [
       "'initially trouble deciding paperwhite voyage reviews less said thing  paperwhite great  spending money  go voyage fortunately  friends owned  ended buying paperwhite basis  models     ppi     dollar jump turns pricey voyage page press always sensitive  fine specific setting  need auto light adjustment  week loving paperwhite  regrets  touch screen receptive easy use  keep light specific setting regardless time day   case  hard change setting either  changing light level certain time day  every reading  also glad went international shipping option amazon  extra expense  delivery time  tracking  didnt need worry customs  may used third party shipping service '"
      ]
     },
     "execution_count": 48,
     "metadata": {},
     "output_type": "execute_result"
    }
   ],
   "source": [
    "review = [word for word in review if not word in set(stopwords.words('english'))]\n",
    "# removing stop words and repetation of words by using set data type\n",
    "review = \" \".join(review) \n",
    "# getting back the paragraph from the \n",
    "review"
   ]
  },
  {
   "cell_type": "code",
   "execution_count": null,
   "metadata": {},
   "outputs": [],
   "source": []
  }
 ],
 "metadata": {
  "kernelspec": {
   "display_name": "Python 3",
   "language": "python",
   "name": "python3"
  },
  "language_info": {
   "codemirror_mode": {
    "name": "ipython",
    "version": 3
   },
   "file_extension": ".py",
   "mimetype": "text/x-python",
   "name": "python",
   "nbconvert_exporter": "python",
   "pygments_lexer": "ipython3",
   "version": "3.7.3"
  }
 },
 "nbformat": 4,
 "nbformat_minor": 2
}
